{
  "nbformat": 4,
  "nbformat_minor": 0,
  "metadata": {
    "colab": {
      "name": "Untitled6.ipynb",
      "provenance": [],
      "collapsed_sections": [],
      "include_colab_link": true
    },
    "kernelspec": {
      "display_name": "Python 3",
      "name": "python3"
    },
    "accelerator": "GPU"
  },
  "cells": [
    {
      "cell_type": "markdown",
      "metadata": {
        "id": "view-in-github",
        "colab_type": "text"
      },
      "source": [
        "<a href=\"https://colab.research.google.com/github/Rohan-damagatla/LetsUpgradeDataScience/blob/main/hyperparametertuning.ipynb\" target=\"_parent\"><img src=\"https://colab.research.google.com/assets/colab-badge.svg\" alt=\"Open In Colab\"/></a>"
      ]
    },
    {
      "cell_type": "code",
      "metadata": {
        "id": "fF9JS5WBQfjd"
      },
      "source": [
        "!pip install catboost"
      ],
      "execution_count": null,
      "outputs": []
    },
    {
      "cell_type": "code",
      "metadata": {
        "id": "SVpOx4501__x"
      },
      "source": [
        "import pandas as pd\n",
        "import numpy as np\n",
        "from sklearn.preprocessing import OneHotEncoder\n",
        "from sklearn.model_selection import train_test_split\n",
        "from xgboost import XGBRegressor\n",
        "from sklearn.metrics import r2_score\n",
        "from sklearn.metrics import mean_squared_error\n",
        "from lightgbm import LGBMRegressor\n",
        "from catboost import CatBoostRegressor\n",
        "from sklearn.preprocessing import MinMaxScaler\n",
        "\n",
        "df = pd.read_excel('/content/train.xlsx')\n",
        "\n",
        "primarycol = 'JOBID'\n",
        "depcol = 'ELAPSEDTIME'\n",
        "indcol = list(df.columns)\n",
        "indcol.remove(primarycol)\n",
        "indcol.remove(depcol)\n",
        "    \n",
        "independentcols=list(df.columns)\n",
        "removecols=[depcol,primarycol]\n",
        "independentcols = [n for n in independentcols if n not in removecols]\n",
        "\n",
        "encoded={}\n",
        "cat_col=[]\n",
        "for col, col_type in df.dtypes.iteritems():\n",
        "      if col_type == 'O':\n",
        "          cat_col.append(col)\n",
        "cat_col = [x for x in cat_col if x in indcol]\n",
        "for i in range(len(cat_col)):\n",
        "    encoder = OneHotEncoder(handle_unknown='ignore')\n",
        "    enc_df = pd.DataFrame(encoder.fit_transform(df[[cat_col[i]]]).toarray())\n",
        "    enc_df.columns = encoder.get_feature_names([cat_col[i]])\n",
        "    df=df.drop(cat_col[i], axis=1)\n",
        "    df=pd.concat([df, enc_df], axis=1)\n",
        "    encoded.update({cat_col[i]:encoder})\n",
        "    \n",
        "independentcols=list(df.columns)\n",
        "removecols=[depcol,primarycol]\n",
        "independentcols = [n for n in independentcols if n not in removecols]\n",
        "\n",
        "x=df[independentcols].values\n",
        "y=df[depcol].values\n",
        "\n",
        "\n"
      ],
      "execution_count": null,
      "outputs": []
    },
    {
      "cell_type": "code",
      "metadata": {
        "id": "3TKFXpPQa-WN"
      },
      "source": [
        "dict1 = {'df':df}\n",
        "output_df = pd.DataFrame(dict1.items())\n",
        "\n",
        "count_vectorizer=output_df.loc[output_df[0] == 'df', 1].item()\n",
        "count_vectorizer"
      ],
      "execution_count": null,
      "outputs": []
    },
    {
      "cell_type": "code",
      "metadata": {
        "id": "9Lvz6EUi8vbr",
        "colab": {
          "base_uri": "https://localhost:8080/",
          "height": 1000
        },
        "outputId": "2f6f8e35-c8b8-4345-d6fa-3e6793df8a72"
      },
      "source": [
        "from scipy import stats\n",
        "from scipy.stats import norm, skew\n",
        "import seaborn as sns\n",
        "import matplotlib.pyplot as plt\n",
        "\n",
        "sns.distplot(y , fit=norm);\n",
        "\n",
        "# Get the fitted parameters used by the function\n",
        "(mu, sigma) = norm.fit(y)\n",
        "print( '\\n mu = {:.2f} and sigma = {:.2f}\\n'.format(mu, sigma))\n",
        "\n",
        "#Now plot the distribution\n",
        "plt.legend(['Normal dist. ($\\mu=$ {:.2f} and $\\sigma=$ {:.2f} )'.format(mu, sigma)], loc='best')\n",
        "plt.ylabel('Frequency')\n",
        "plt.title('SalePrice distribution')\n",
        "\n",
        "#Get also the QQ-plot\n",
        "fig = plt.figure()\n",
        "res = stats.probplot(y, plot=plt)\n",
        "plt.show()\n",
        "\n",
        "y = np.log(y)\n",
        "\n",
        "#Check the new distribution \n",
        "sns.distplot(y , fit=norm);\n",
        "\n",
        "# Get the fitted parameters used by the function\n",
        "(mu, sigma) = norm.fit(y)\n",
        "print( '\\n mu = {:.2f} and sigma = {:.2f}\\n'.format(mu, sigma))\n",
        "\n",
        "#Now plot the distribution\n",
        "plt.legend(['Normal dist. ($\\mu=$ {:.2f} and $\\sigma=$ {:.2f} )'.format(mu, sigma)],\n",
        "            loc='best')\n",
        "plt.ylabel('Frequency')\n",
        "plt.title('SalePrice distribution')\n",
        "\n",
        "#Get also the QQ-plot\n",
        "fig = plt.figure()\n",
        "res = stats.probplot(y, plot=plt)\n",
        "plt.show()"
      ],
      "execution_count": null,
      "outputs": [
        {
          "output_type": "stream",
          "text": [
            "/usr/local/lib/python3.7/dist-packages/seaborn/distributions.py:2557: FutureWarning: `distplot` is a deprecated function and will be removed in a future version. Please adapt your code to use either `displot` (a figure-level function with similar flexibility) or `histplot` (an axes-level function for histograms).\n",
            "  warnings.warn(msg, FutureWarning)\n"
          ],
          "name": "stderr"
        },
        {
          "output_type": "stream",
          "text": [
            "\n",
            " mu = 20768.53 and sigma = 19118.74\n",
            "\n"
          ],
          "name": "stdout"
        },
        {
          "output_type": "display_data",
          "data": {
            "image/png": "[encoded data removed]",
            "text/plain": [
              "<Figure size 432x288 with 1 Axes>"
            ]
          },
          "metadata": {
            "tags": [],
            "needs_background": "light"
          }
        },
        {
          "output_type": "display_data",
          "data": {
            "image/png": "[encoded data removed]",
            "text/plain": [
              "<Figure size 432x288 with 1 Axes>"
            ]
          },
          "metadata": {
            "tags": [],
            "needs_background": "light"
          }
        },
        {
          "output_type": "stream",
          "text": [
            "/usr/local/lib/python3.7/dist-packages/seaborn/distributions.py:2557: FutureWarning: `distplot` is a deprecated function and will be removed in a future version. Please adapt your code to use either `displot` (a figure-level function with similar flexibility) or `histplot` (an axes-level function for histograms).\n",
            "  warnings.warn(msg, FutureWarning)\n"
          ],
          "name": "stderr"
        },
        {
          "output_type": "stream",
          "text": [
            "\n",
            " mu = 9.54 and sigma = 0.93\n",
            "\n"
          ],
          "name": "stdout"
        },
        {
          "output_type": "display_data",
          "data": {
            "image/png": "[encoded data removed]",
            "text/plain": [
              "<Figure size 432x288 with 1 Axes>"
            ]
          },
          "metadata": {
            "tags": [],
            "needs_background": "light"
          }
        },
        {
          "output_type": "display_data",
          "data": {
            "image/png": "[encoded data removed]",
            "text/plain": [
              "<Figure size 432x288 with 1 Axes>"
            ]
          },
          "metadata": {
            "tags": [],
            "needs_background": "light"
          }
        }
      ]
    },
    {
      "cell_type": "code",
      "metadata": {
        "colab": {
          "base_uri": "https://localhost:8080/"
        },
        "id": "f5CY86uUBRzW",
        "outputId": "e0b21dd1-617f-4449-b134-1f4991f07a2f"
      },
      "source": [
        "from sklearn.model_selection import KFold, cross_val_score\n",
        "from sklearn.model_selection import train_test_split\n",
        "\n",
        "random_state=42\n",
        "n_iter=10\n",
        "\n",
        "num_folds=5\n",
        "\n",
        "kf = KFold(n_splits=num_folds, random_state=random_state)\n",
        "\n",
        "\n",
        "from hyperopt import fmin, tpe, hp, anneal, Trials\n",
        "\n",
        "def gb_mse_cv(params, random_state=random_state, cv=kf, X=x, y=y):\n",
        "    # the function gets a set of variable parameters in \"param\"\n",
        "    params = {'n_estimators': int(params['n_estimators']), \n",
        "              'max_depth': int(params['max_depth']), \n",
        "             'learning_rate': params['learning_rate']}\n",
        "    \n",
        "    # we use this params to create a new LGBM Regressor\n",
        "    model = XGBRegressor(random_state=random_state, **params)\n",
        "    \n",
        "    # and then conduct the cross validation with the same folds as before\n",
        "    score = -cross_val_score(model, X, y, cv=cv, scoring=\"neg_mean_squared_error\", n_jobs=-1).mean()\n",
        "\n",
        "    return score\n",
        "\n",
        "space={'n_estimators': hp.quniform('n_estimators', 100, 2000, 1),\n",
        "       'max_depth' : hp.quniform('max_depth', 2, 20, 1),\n",
        "       'learning_rate': hp.loguniform('learning_rate', -5, 0)\n",
        "      }\n",
        "\n",
        "# trials will contain logging information\n",
        "#trials = Trials()\n",
        "\n",
        "best=fmin(fn=gb_mse_cv, # function to optimize\n",
        "          space=space, \n",
        "          algo=tpe.suggest, # optimization algorithm, hyperotp will select its parameters automatically\n",
        "          max_evals=n_iter, # maximum number of iterations\n",
        "          rstate=np.random.RandomState(random_state) # fixing random state for the reproducibility\n",
        "         )\n",
        "\n",
        "# computing the score on the test set\n",
        "model = XGBRegressor(random_state=random_state, n_estimators=int(best['n_estimators']),\n",
        "                      max_depth=int(best['max_depth']),learning_rate=best['learning_rate'])\n",
        "model.fit(x,y)\n",
        "tpe_test_score=mean_squared_error(y, model.predict(x))\n",
        "\n",
        "print(\"Best MSE {:.3f} params {}\".format( gb_mse_cv(best), best))\n",
        "\n"
      ],
      "execution_count": null,
      "outputs": [
        {
          "output_type": "stream",
          "text": [
            "/usr/local/lib/python3.7/dist-packages/sklearn/model_selection/_split.py:296: FutureWarning: Setting a random_state has no effect since shuffle is False. This will raise an error in 0.24. You should leave random_state to its default (None), or set shuffle=True.\n",
            "  FutureWarning\n"
          ],
          "name": "stderr"
        },
        {
          "output_type": "stream",
          "text": [
            "100%|██████████| 10/10 [4:24:42<00:00, 1588.29s/it, best loss: 0.05248649868062579]\n",
            "[07:43:16] WARNING: /workspace/src/objective/regression_obj.cu:152: reg:linear is now deprecated in favor of reg:squarederror.\n",
            "Best MSE 0.052 params {'learning_rate': 0.13402021764835548, 'max_depth': 5.0, 'n_estimators': 1644.0}\n"
          ],
          "name": "stdout"
        }
      ]
    },
    {
      "cell_type": "code",
      "metadata": {
        "id": "_jobvLzlIZr0"
      },
      "source": [
        "from sklearn.linear_model import ElasticNet, Lasso,  BayesianRidge, LassoLarsIC\n",
        "from sklearn.ensemble import RandomForestRegressor,  GradientBoostingRegressor\n",
        "from sklearn.kernel_ridge import KernelRidge\n",
        "from sklearn.pipeline import make_pipeline\n",
        "from sklearn.preprocessing import RobustScaler\n",
        "from sklearn.base import BaseEstimator, TransformerMixin, RegressorMixin, clone\n",
        "from sklearn.model_selection import KFold, cross_val_score, train_test_split\n",
        "from sklearn.metrics import mean_squared_error\n",
        "import xgboost as xgb\n",
        "import lightgbm as lgb\n",
        "\n",
        "n_folds = 5\n",
        "\n",
        "def rmsle_cv(model):\n",
        "    kf = KFold(n_folds, shuffle=True, random_state=42).get_n_splits(x)\n",
        "    rmse= np.sqrt(-cross_val_score(model, x, y, scoring=\"neg_mean_squared_error\", cv = kf))\n",
        "    return(rmse)\n",
        "\n",
        "\n",
        "\n"
      ],
      "execution_count": null,
      "outputs": []
    },
    {
      "cell_type": "code",
      "metadata": {
        "id": "my-KXi69Hr7R"
      },
      "source": [
        "GBoost = GradientBoostingRegressor(n_estimators=5000, learning_rate=0.2,\n",
        "                                   max_depth=10, max_features='sqrt',\n",
        "                                   min_samples_leaf=15, min_samples_split=10, \n",
        "                                   loss='huber', random_state =5)\n",
        "\n",
        "#score = rmsle_cv(GBoost)\n",
        "#print(\"Gradient Boosting score: {:.4f} ({:.4f})\\n\".format(score.mean(), score.std()))"
      ],
      "execution_count": null,
      "outputs": []
    },
    {
      "cell_type": "code",
      "metadata": {
        "id": "UJlRbA5ZXLMQ"
      },
      "source": [
        "model_xgb = xgb.XGBRegressor(colsample_bytree=0.4603, gamma=0.0468, \n",
        "                             learning_rate=0.15, max_depth=5, \n",
        "                             min_child_weight=1.7817, n_estimators=2000,\n",
        "                             reg_alpha=0.4640, reg_lambda=0.8571,\n",
        "                             subsample=0.5213, silent=1,\n",
        "                             random_state =7, nthread = -1)\n",
        "\n",
        "#score = rmsle_cv(model_xgb)\n",
        "#print(\"Xgboost score: {:.4f} ({:.4f})\\n\".format(score.mean(), score.std()))\n",
        "\n"
      ],
      "execution_count": null,
      "outputs": []
    },
    {
      "cell_type": "code",
      "metadata": {
        "id": "4AfBQz_MXRcb"
      },
      "source": [
        "model_lgb = lgb.LGBMRegressor(objective='regression',num_leaves=5,max_depth=10,\n",
        "                              learning_rate=0.3, n_estimators=5000,\n",
        "                              max_bin = 55, bagging_fraction = 0.9,\n",
        "                              bagging_freq = 5, feature_fraction = 0.9,\n",
        "                              feature_fraction_seed=9, bagging_seed=9,\n",
        "                              min_data_in_leaf =6, min_sum_hessian_in_leaf = 11)\n",
        "\n",
        "#score = rmsle_cv(model_lgb)\n",
        "#print(\"LGBM score: {:.4f} ({:.4f})\\n\" .format(score.mean(), score.std()))\n"
      ],
      "execution_count": null,
      "outputs": []
    },
    {
      "cell_type": "code",
      "metadata": {
        "id": "eeky73_4XWot"
      },
      "source": [
        "model_cat = CatBoostRegressor(verbose=0,depth= 10, l2_leaf_reg = 1, iterations = 5000, learning_rate = 0.1)\n",
        "\n",
        "#score = rmsle_cv(model_cat)\n",
        "#print(\"Catboost score: {:.4f} ({:.4f})\\n\" .format(score.mean(), score.std()))"
      ],
      "execution_count": null,
      "outputs": []
    },
    {
      "cell_type": "code",
      "metadata": {
        "id": "JxLu0nh4RLiz"
      },
      "source": [
        "class AveragingModels(BaseEstimator, RegressorMixin, TransformerMixin):\n",
        "    def __init__(self, models):\n",
        "        self.models = models\n",
        "        \n",
        "    # we define clones of the original models to fit the data in\n",
        "    def fit(self, X, y):\n",
        "        self.models_ = [clone(x) for x in self.models]\n",
        "        \n",
        "        # Train cloned base models\n",
        "        for model in self.models_:\n",
        "            model.fit(X, y)\n",
        "\n",
        "        return self\n",
        "    \n",
        "    #Now we do the predictions for cloned models and average them\n",
        "    def predict(self, X):\n",
        "        predictions = np.column_stack([\n",
        "            model.predict(X) for model in self.models_\n",
        "        ])\n",
        "        return np.mean(predictions, axis=1)\n",
        "\n",
        "averaged_models = AveragingModels(models = (GBoost, model_xgb,model_lgb))\n",
        "\n",
        "score = rmsle_cv(averaged_models)\n",
        "print(\" Averaged base models score: {:.4f} ({:.4f})\\n\".format(score.mean(), score.std()))"
      ],
      "execution_count": null,
      "outputs": []
    },
    {
      "cell_type": "code",
      "metadata": {
        "id": "hGhzm98hVrrV"
      },
      "source": [
        "class StackingAveragedModels(BaseEstimator, RegressorMixin, TransformerMixin):\n",
        "    def __init__(self, base_models, meta_model, n_folds=5):\n",
        "        self.base_models = base_models\n",
        "        self.meta_model = meta_model\n",
        "        self.n_folds = n_folds\n",
        "   \n",
        "    # We again fit the data on clones of the original models\n",
        "    def fit(self, X, y):\n",
        "        self.base_models_ = [list() for x in self.base_models]\n",
        "        self.meta_model_ = clone(self.meta_model)\n",
        "        kfold = KFold(n_splits=self.n_folds, shuffle=True, random_state=156)\n",
        "        \n",
        "        # Train cloned base models then create out-of-fold predictions\n",
        "        # that are needed to train the cloned meta-model\n",
        "        out_of_fold_predictions = np.zeros((X.shape[0], len(self.base_models)))\n",
        "        for i, model in enumerate(self.base_models):\n",
        "            for train_index, holdout_index in kfold.split(X, y):\n",
        "                instance = clone(model)\n",
        "                self.base_models_[i].append(instance)\n",
        "                instance.fit(X[train_index], y[train_index])\n",
        "                y_pred = instance.predict(X[holdout_index])\n",
        "                out_of_fold_predictions[holdout_index, i] = y_pred\n",
        "                \n",
        "        # Now train the cloned  meta-model using the out-of-fold predictions as new feature\n",
        "        self.meta_model_.fit(out_of_fold_predictions, y)\n",
        "        return self\n",
        "   \n",
        "    #Do the predictions of all base models on the test data and use the averaged predictions as \n",
        "    #meta-features for the final prediction which is done by the meta-model\n",
        "    def predict(self, X):\n",
        "        meta_features = np.column_stack([\n",
        "            np.column_stack([model.predict(X) for model in base_models]).mean(axis=1)\n",
        "            for base_models in self.base_models_ ])\n",
        "        return self.meta_model_.predict(meta_features)\n",
        "\n",
        "stacked_averaged_models = StackingAveragedModels(base_models = (GBoost, model_xgb,model_cat),\n",
        "                                                 meta_model = model_lgb)\n",
        "\n",
        "#score = rmsle_cv(stacked_averaged_models)\n",
        "#print(\"Stacking Averaged models score: {:.4f} ({:.4f})\".format(score.mean(), score.std()))"
      ],
      "execution_count": null,
      "outputs": []
    },
    {
      "cell_type": "code",
      "metadata": {
        "id": "Fv27QoYdJFXY"
      },
      "source": [
        "test = pd.read_excel('/content/test1.xlsx')\n",
        "\n",
        "for i in range(len(cat_col)):\n",
        "\tenc_df = pd.DataFrame(encoded[cat_col[i]].transform(test[[cat_col[i]]]).toarray())\n",
        "\tenc_df.columns = encoded[cat_col[i]].get_feature_names([cat_col[i]])\n",
        "\ttest=test.drop(cat_col[i], axis=1)\n",
        "\ttest=pd.concat([test, enc_df], axis=1)\n",
        "test_x=test[independentcols].values"
      ],
      "execution_count": null,
      "outputs": []
    },
    {
      "cell_type": "code",
      "metadata": {
        "colab": {
          "base_uri": "https://localhost:8080/"
        },
        "id": "bRAJoDjLIxi-",
        "outputId": "aea71c56-b2ff-4664-8002-0c0e83d1e016"
      },
      "source": [
        "def rmsle(y, y_pred):\n",
        "    return np.sqrt(mean_squared_error(y, y_pred))\n",
        "\n",
        "stacked_averaged_models.fit(x, y)\n",
        "stacked_train_pred = stacked_averaged_models.predict(x)\n",
        "stacked_pred = np.exp(stacked_averaged_models.predict(test_x))\n",
        "print(rmsle(y, stacked_train_pred))\n",
        "\n",
        "model_cat.fit(x, y)\n",
        "cat_train_pred = model_cat.predict(x)\n",
        "cat_pred = np.exp(model_cat.predict(test_x))\n",
        "print(rmsle(y, cat_train_pred))\n",
        "\n",
        "\n",
        "GBoost.fit(x, y)\n",
        "grad_train_pred = GBoost.predict(x)\n",
        "grad_pred = np.exp(GBoost.predict(test_x))\n",
        "print(rmsle(y, grad_train_pred))\n",
        "\n"
      ],
      "execution_count": null,
      "outputs": [
        {
          "output_type": "stream",
          "text": [
            "0.0819276342212629\n",
            "0.07424632563510002\n",
            "0.07878455333566398\n"
          ],
          "name": "stdout"
        }
      ]
    },
    {
      "cell_type": "code",
      "metadata": {
        "colab": {
          "base_uri": "https://localhost:8080/",
          "height": 50
        },
        "id": "wkhuqeJRKLyr",
        "outputId": "9689f0c2-acc3-49c0-ec02-768574b3b090"
      },
      "source": [
        "print('RMSLE score on train data:')\n",
        "print(rmsle(y,stacked_train_pred*0.5 +cat_train_pred*0.49 + grad_train_pred*0.05))\n",
        "\n",
        "ensemble = cat_pred*0.49 + stacked_pred*0.5 + grad_pred*0.05\n",
        "test['PREDICTION'] = ensemble\n",
        "\n",
        "test = test[[primarycol,'PREDICTION']]\n",
        "test.to_csv('data_cbgridcvgb.csv', sep=';', index=False)\n",
        "\n",
        "from google.colab import files\n",
        "files.download('data_cbgridcvgb.csv')"
      ],
      "execution_count": null,
      "outputs": [
        {
          "output_type": "stream",
          "text": [
            "RMSLE score on train data:\n",
            "0.39003390567241064\n"
          ],
          "name": "stdout"
        },
        {
          "output_type": "display_data",
          "data": {
            "application/javascript": [
              "\n",
              "    async function download(id, filename, size) {\n",
              "      if (!google.colab.kernel.accessAllowed) {\n",
              "        return;\n",
              "      }\n",
              "      const div = document.createElement('div');\n",
              "      const label = document.createElement('label');\n",
              "      label.textContent = `Downloading \"${filename}\": `;\n",
              "      div.appendChild(label);\n",
              "      const progress = document.createElement('progress');\n",
              "      progress.max = size;\n",
              "      div.appendChild(progress);\n",
              "      document.body.appendChild(div);\n",
              "\n",
              "      const buffers = [];\n",
              "      let downloaded = 0;\n",
              "\n",
              "      const channel = await google.colab.kernel.comms.open(id);\n",
              "      // Send a message to notify the kernel that we're ready.\n",
              "      channel.send({})\n",
              "\n",
              "      for await (const message of channel.messages) {\n",
              "        // Send a message to notify the kernel that we're ready.\n",
              "        channel.send({})\n",
              "        if (message.buffers) {\n",
              "          for (const buffer of message.buffers) {\n",
              "            buffers.push(buffer);\n",
              "            downloaded += buffer.byteLength;\n",
              "            progress.value = downloaded;\n",
              "          }\n",
              "        }\n",
              "      }\n",
              "      const blob = new Blob(buffers, {type: 'application/binary'});\n",
              "      const a = document.createElement('a');\n",
              "      a.href = window.URL.createObjectURL(blob);\n",
              "      a.download = filename;\n",
              "      div.appendChild(a);\n",
              "      a.click();\n",
              "      div.remove();\n",
              "    }\n",
              "  "
            ],
            "text/plain": [
              "<IPython.core.display.Javascript object>"
            ]
          },
          "metadata": {
            "tags": []
          }
        },
        {
          "output_type": "display_data",
          "data": {
            "application/javascript": [
              "download(\"download_b43b20a7-98ae-4c1f-9ad8-22d23655e94d\", \"data_cbgridcvgb.csv\", 214090)"
            ],
            "text/plain": [
              "<IPython.core.display.Javascript object>"
            ]
          },
          "metadata": {
            "tags": []
          }
        }
      ]
    },
    {
      "cell_type": "code",
      "metadata": {
        "id": "a6XFqlj_9Ap-"
      },
      "source": [
        "#Catboost\n",
        "model_cat = CatBoostRegressor(verbose=0,cat_features=categorical_features_indices)\n",
        "\n",
        "grid = {'learning_rate': [0.01, 0.05, 0.1, 0.2, 0.3, 0.4, 0.5],\n",
        "        'depth': [4, 6, 8 , 10],\n",
        "        'l2_leaf_reg': [1, 3, 5, 7, 9],\n",
        "        'n_estimators': [100, 500 ,1000, 1500, 2000]}\n",
        "\n",
        "randomized_search_result = model_cat.randomized_search(grid,\n",
        "                                                    X=x_train,\n",
        "                                                    y=y_train,\n",
        "                                                    n_iter=10,\n",
        "                                                    plot=False)\n",
        "\n",
        "print(randomized_search_result['params'])\n",
        "\n",
        "model_cat.fit(x_train, y_train)\n",
        "\n",
        "pred = model_cat.predict(x_test)\n",
        "rmse = np.sqrt(mean_squared_error(y_test,pred)) \n",
        "r2 = r2_score(y_test,pred)\n",
        "print(\"rmse: \", rmse )\n",
        "print(\"r2: \", r2 )"
      ],
      "execution_count": null,
      "outputs": []
    },
    {
      "cell_type": "code",
      "metadata": {
        "colab": {
          "background_save": true
        },
        "id": "ZoCvQfcaWqH_"
      },
      "source": [
        "model_cat = CatBoostRegressor(verbose=0,depth= 10, l2_leaf_reg = 1, iterations = 5000, learning_rate = 0.1)\n",
        "\n",
        "model_cat.fit(x_train, y_train)\n",
        "\n",
        "pred = model_cat.predict(x_test)\n",
        "rmse = np.sqrt(mean_squared_error(y_test,pred)) \n",
        "r2 = r2_score(y_test,pred)\n",
        "print(\"rmse: \", rmse )\n",
        "print(\"r2: \", r2 )\n",
        "\n",
        "model_cat.fit(x, y)\n",
        "\n",
        "pred = model_cat.predict(x_test)\n",
        "rmse = np.sqrt(mean_squared_error(y_test,pred)) \n",
        "r2 = r2_score(y_test,pred)\n",
        "print(\"rmse: \", rmse )\n",
        "print(\"r2: \", r2 )"
      ],
      "execution_count": null,
      "outputs": []
    },
    {
      "cell_type": "code",
      "metadata": {
        "colab": {
          "base_uri": "https://localhost:8080/",
          "height": 17
        },
        "id": "5Lu3OX312ZTX",
        "outputId": "6bc7b50c-dbc1-4e1b-ff8b-d34a7a315eb7"
      },
      "source": [
        "test = pd.read_excel('/content/test1.xlsx')\n",
        "\n",
        "for i in range(len(cat_col)):\n",
        "\tenc_df = pd.DataFrame(encoded[cat_col[i]].transform(test[[cat_col[i]]]).toarray())\n",
        "\tenc_df.columns = encoded[cat_col[i]].get_feature_names([cat_col[i]])\n",
        "\ttest=test.drop(cat_col[i], axis=1)\n",
        "\ttest=pd.concat([test, enc_df], axis=1)\n",
        "\t\n",
        "test_x=test[independentcols].values\n",
        "y_pred=model.predict(test_x)\n",
        "\n",
        "test['PREDICTION'] = y_pred\n",
        "test = test[[primarycol,'PREDICTION']]\n",
        "test.to_csv('data_cbgridcv.csv', sep=';', index=False)\n",
        "\n",
        "from google.colab import files\n",
        "files.download('data_cbgridcv.csv')"
      ],
      "execution_count": null,
      "outputs": [
        {
          "output_type": "display_data",
          "data": {
            "application/javascript": [
              "\n",
              "    async function download(id, filename, size) {\n",
              "      if (!google.colab.kernel.accessAllowed) {\n",
              "        return;\n",
              "      }\n",
              "      const div = document.createElement('div');\n",
              "      const label = document.createElement('label');\n",
              "      label.textContent = `Downloading \"${filename}\": `;\n",
              "      div.appendChild(label);\n",
              "      const progress = document.createElement('progress');\n",
              "      progress.max = size;\n",
              "      div.appendChild(progress);\n",
              "      document.body.appendChild(div);\n",
              "\n",
              "      const buffers = [];\n",
              "      let downloaded = 0;\n",
              "\n",
              "      const channel = await google.colab.kernel.comms.open(id);\n",
              "      // Send a message to notify the kernel that we're ready.\n",
              "      channel.send({})\n",
              "\n",
              "      for await (const message of channel.messages) {\n",
              "        // Send a message to notify the kernel that we're ready.\n",
              "        channel.send({})\n",
              "        if (message.buffers) {\n",
              "          for (const buffer of message.buffers) {\n",
              "            buffers.push(buffer);\n",
              "            downloaded += buffer.byteLength;\n",
              "            progress.value = downloaded;\n",
              "          }\n",
              "        }\n",
              "      }\n",
              "      const blob = new Blob(buffers, {type: 'application/binary'});\n",
              "      const a = document.createElement('a');\n",
              "      a.href = window.URL.createObjectURL(blob);\n",
              "      a.download = filename;\n",
              "      div.appendChild(a);\n",
              "      a.click();\n",
              "      div.remove();\n",
              "    }\n",
              "  "
            ],
            "text/plain": [
              "<IPython.core.display.Javascript object>"
            ]
          },
          "metadata": {
            "tags": []
          }
        },
        {
          "output_type": "display_data",
          "data": {
            "application/javascript": [
              "download(\"download_296c6a24-f943-490b-b0c4-560dbb0b83ad\", \"data_cbgridcv.csv\", 138969)"
            ],
            "text/plain": [
              "<IPython.core.display.Javascript object>"
            ]
          },
          "metadata": {
            "tags": []
          }
        }
      ]
    },
    {
      "cell_type": "code",
      "metadata": {
        "colab": {
          "base_uri": "https://localhost:8080/"
        },
        "id": "B7VMJRA_y1r-",
        "outputId": "0c87edbc-64d8-45dc-de56-b7e0c6e6f3cc"
      },
      "source": [
        "import pandas as pd\n",
        "import numpy as np\n",
        "from sklearn.preprocessing import OneHotEncoder\n",
        "from sklearn.model_selection import train_test_split\n",
        "from xgboost import XGBRegressor\n",
        "from sklearn.metrics import r2_score\n",
        "from sklearn.metrics import mean_squared_error\n",
        "from lightgbm import LGBMRegressor\n",
        "from catboost import CatBoostRegressor\n",
        "from sklearn.preprocessing import MinMaxScaler\n",
        "from sklearn.ensemble import StackingRegressor\n",
        "from sklearn.model_selection import RepeatedKFold\n",
        "from sklearn.model_selection import cross_val_score\n",
        "from numpy import mean\n",
        "\n",
        "def evaluate_model(model, X, y):\n",
        "\tcv = RepeatedKFold(n_splits=10, n_repeats=3, random_state=1)\n",
        "\tscores = cross_val_score(model, X, y, scoring='neg_root_mean_squared_error', cv=cv, n_jobs=-1, error_score='raise')\n",
        "\treturn scores\n",
        "\n",
        "df = pd.read_excel('/content/train.xlsx')\n",
        "\n",
        "primarycol = 'JOBID'\n",
        "depcol = 'ELAPSEDTIME'\n",
        "indcol = list(df.columns)\n",
        "indcol.remove(primarycol)\n",
        "indcol.remove(depcol)\n",
        "\n",
        "encoded={}\n",
        "cat_col=[]\n",
        "for col, col_type in df.dtypes.iteritems():\n",
        "      if col_type == 'O':\n",
        "          cat_col.append(col)\n",
        "cat_col = [x for x in cat_col if x in indcol]\n",
        "for i in range(len(cat_col)):\n",
        "    encoder = OneHotEncoder(handle_unknown='ignore')\n",
        "    enc_df = pd.DataFrame(encoder.fit_transform(df[[cat_col[i]]]).toarray())\n",
        "    enc_df.columns = encoder.get_feature_names([cat_col[i]])\n",
        "    df=df.drop(cat_col[i], axis=1)\n",
        "    df=pd.concat([df, enc_df], axis=1)\n",
        "    encoded.update({cat_col[i]:encoder})\n",
        "    \n",
        "independentcols=list(df.columns)\n",
        "removecols=[depcol,primarycol]\n",
        "independentcols = [n for n in independentcols if n not in removecols]\n",
        "\n",
        "x=df[independentcols].values\n",
        "y=df[depcol].values\n",
        "\n",
        "x_train,x_test,y_train,y_test=train_test_split(x,y,test_size=0.3,random_state=0)\n",
        "\n",
        "level0 = list()\n",
        "level0.append(('Catboost', CatBoostRegressor(verbose=0)))\n",
        "level0.append(('Lightbgm', LGBMRegressor(verbose=0)))\n",
        "#Catboost\n",
        "level1 = XGBRegressor(verbose=0)\n",
        "\n",
        "model = StackingRegressor(estimators=level0, final_estimator=level1, cv=10)\n",
        "\n",
        "scores= evaluate_model(model,x, y)\n",
        "print(mean(scores))\n",
        "\n"
      ],
      "execution_count": null,
      "outputs": [
        {
          "output_type": "stream",
          "text": [
            "-4504.305630237003\n"
          ],
          "name": "stdout"
        }
      ]
    },
    {
      "cell_type": "code",
      "metadata": {
        "colab": {
          "base_uri": "https://localhost:8080/"
        },
        "id": "0ynbZwBALP3U",
        "outputId": "4b3e3ae8-be07-4fd0-ef3d-f6a40675b65b"
      },
      "source": [
        "model_cat.fit(x, y)\n",
        "\n",
        "pred = model_cat.predict(x_test)\n",
        "rmse = np.sqrt(mean_squared_error(y_test,pred)) \n",
        "r2 = r2_score(y_test,pred)\n",
        "print(\"rmse: \", rmse )\n",
        "print(\"r2: \", r2 )\n"
      ],
      "execution_count": null,
      "outputs": [
        {
          "output_type": "stream",
          "text": [
            "rmse:  3166.8275135005038\n",
            "r2:  0.9721629037946745\n"
          ],
          "name": "stdout"
        }
      ]
    },
    {
      "cell_type": "code",
      "metadata": {
        "colab": {
          "base_uri": "https://localhost:8080/"
        },
        "id": "vTTGaYLgYOJ4",
        "outputId": "1b578eb2-76d9-41f8-b8a5-3f4c4ef8d587"
      },
      "source": [
        "import pandas as pd\n",
        "import numpy as np\n",
        "from sklearn.preprocessing import OneHotEncoder\n",
        "from sklearn.model_selection import train_test_split\n",
        "from xgboost import XGBRegressor\n",
        "from sklearn.metrics import r2_score\n",
        "from sklearn.metrics import mean_squared_error\n",
        "from sklearn.preprocessing import StandardScaler\n",
        "from sklearn.decomposition import PCA\n",
        "from catboost import CatBoostRegressor\n",
        "\n",
        "df = pd.read_excel('/content/train.xlsx')\n",
        "\n",
        "primarycol = 'JOBID'\n",
        "depcol = 'ELAPSEDTIME'\n",
        "indcol = list(df.columns)\n",
        "indcol.remove(primarycol)\n",
        "indcol.remove(depcol)\n",
        "\n",
        "encoded={}\n",
        "cat_col=[]\n",
        "for col, col_type in df.dtypes.iteritems():\n",
        "     if col_type == 'O':\n",
        "          cat_col.append(col)\n",
        "cat_col = [x for x in cat_col if x in indcol]\n",
        "for i in range(len(cat_col)):\n",
        "    encoder = OneHotEncoder(handle_unknown='ignore')\n",
        "    enc_df = pd.DataFrame(encoder.fit_transform(df[[cat_col[i]]]).toarray())\n",
        "    enc_df.columns = encoder.get_feature_names([cat_col[i]])\n",
        "    df=df.drop(cat_col[i], axis=1)\n",
        "    df=pd.concat([df, enc_df], axis=1)\n",
        "    encoded.update({cat_col[i]:encoder})\n",
        "    \n",
        "independentcols=list(df.columns)\n",
        "removecols=[depcol,primarycol]\n",
        "independentcols = [n for n in independentcols if n not in removecols]\n",
        "\n",
        "\n",
        "x=df[independentcols].values\n",
        "x = StandardScaler().fit_transform(x)\n",
        "pca = PCA(n_components=15)\n",
        "x = pca.fit_transform(x)\n",
        "y=df[depcol].values\n",
        "\n",
        "print(x.shape)\n",
        "\n",
        "x_train,x_test,y_train,y_test=train_test_split(x,y,test_size=0.3,random_state=0)\n",
        "\n",
        "#Catboost\n",
        "model_cat = CatBoostRegressor(verbose=0)\n",
        "\n",
        "grid = {'learning_rate': [0.01, 0.05, 0.1, 0.2, 0.3, 0.4, 0.5],\n",
        "        'depth': [4, 6, 8 , 10],\n",
        "        'l2_leaf_reg': [1, 3, 5, 7, 9],\n",
        "        'n_estimators': [100, 500 ,1000, 1500, 2000, 3000, 4000, 5000]}\n",
        "\n",
        "randomized_search_result = model_cat.randomized_search(grid,\n",
        "                                                    X=x_train,\n",
        "                                                    y=y_train,\n",
        "                                                    n_iter=10,\n",
        "                                                    plot=False)\n",
        "\n",
        "print(randomized_search_result['params'])\n",
        "\n",
        "model_cat.fit(x, y)\n",
        "\n",
        "pred = model_cat.predict(x_test)\n",
        "rmse = np.sqrt(mean_squared_error(y_test,pred)) \n",
        "r2 = r2_score(y_test,pred)\n",
        "print(\"rmse: \", rmse )\n",
        "print(\"r2: \", r2 )"
      ],
      "execution_count": null,
      "outputs": [
        {
          "output_type": "stream",
          "text": [
            "(89112, 15)\n",
            "\n",
            "bestTest = 6439.909996\n",
            "bestIteration = 999\n",
            "\n",
            "0:\tloss: 6439.9099957\tbest: 6439.9099957 (0)\ttotal: 8.97s\tremaining: 1m 20s\n",
            "\n",
            "bestTest = 4723.125789\n",
            "bestIteration = 3980\n",
            "\n",
            "1:\tloss: 4723.1257893\tbest: 4723.1257893 (1)\ttotal: 44.6s\tremaining: 2m 58s\n",
            "\n",
            "bestTest = 4701.823099\n",
            "bestIteration = 4994\n",
            "\n",
            "2:\tloss: 4701.8230987\tbest: 4701.8230987 (2)\ttotal: 1m 29s\tremaining: 3m 28s\n",
            "\n",
            "bestTest = 4617.309706\n",
            "bestIteration = 1494\n",
            "\n",
            "3:\tloss: 4617.3097058\tbest: 4617.3097058 (3)\ttotal: 1m 49s\tremaining: 2m 44s\n",
            "\n",
            "bestTest = 4744.701836\n",
            "bestIteration = 999\n",
            "\n",
            "4:\tloss: 4744.7018362\tbest: 4617.3097058 (3)\ttotal: 2m 14s\tremaining: 2m 14s\n",
            "\n",
            "bestTest = 4564.193299\n",
            "bestIteration = 1373\n",
            "\n",
            "5:\tloss: 4564.1932992\tbest: 4564.1932992 (5)\ttotal: 2m 52s\tremaining: 1m 54s\n",
            "\n",
            "bestTest = 6213.098282\n",
            "bestIteration = 1499\n",
            "\n",
            "6:\tloss: 6213.0982817\tbest: 4564.1932992 (5)\ttotal: 4m 28s\tremaining: 1m 55s\n",
            "\n",
            "bestTest = 4619.283333\n",
            "bestIteration = 2999\n",
            "\n",
            "7:\tloss: 4619.2833330\tbest: 4564.1932992 (5)\ttotal: 7m 41s\tremaining: 1m 55s\n",
            "\n",
            "bestTest = 4480.57429\n",
            "bestIteration = 3984\n",
            "\n",
            "8:\tloss: 4480.5742902\tbest: 4480.5742902 (8)\ttotal: 11m 58s\tremaining: 1m 19s\n",
            "\n",
            "bestTest = 4443.908867\n",
            "bestIteration = 2141\n",
            "\n",
            "9:\tloss: 4443.9088671\tbest: 4443.9088671 (9)\ttotal: 17m 16s\tremaining: 0us\n",
            "Estimating final quality...\n",
            "{'depth': 10, 'l2_leaf_reg': 5, 'iterations': 5000, 'learning_rate': 0.2}\n",
            "rmse:  2556.697904578259\n",
            "r2:  0.9818559621797\n"
          ],
          "name": "stdout"
        }
      ]
    },
    {
      "cell_type": "code",
      "metadata": {
        "colab": {
          "base_uri": "https://localhost:8080/"
        },
        "id": "AOo4Nr1yctEH",
        "outputId": "67338413-bd15-41b0-c182-54f83d039d49"
      },
      "source": [
        "model_cat = CatBoostRegressor(verbose=0,depth= 10, l2_leaf_reg = 5, iterations = 5000, learning_rate = 0.4)\n",
        "\n",
        "model_cat.fit(x, y)\n",
        "\n",
        "pred = model_cat.predict(x_test)\n",
        "rmse = np.sqrt(mean_squared_error(y_test,pred)) \n",
        "r2 = r2_score(y_test,pred)\n",
        "print(\"rmse: \", rmse )\n",
        "print(\"r2: \", r2 )"
      ],
      "execution_count": null,
      "outputs": [
        {
          "output_type": "stream",
          "text": [
            "rmse:  2453.900420737671\n",
            "r2:  0.9832856696454557\n"
          ],
          "name": "stdout"
        }
      ]
    },
    {
      "cell_type": "code",
      "metadata": {
        "colab": {
          "base_uri": "https://localhost:8080/",
          "height": 17
        },
        "id": "ralne6bg6o9g",
        "outputId": "4378ef9c-7565-469f-a13d-2be50aa5fec8"
      },
      "source": [
        "test = pd.read_excel('/content/test1.xlsx')\n",
        "\n",
        "for i in range(len(cat_col)):\n",
        "\tenc_df = pd.DataFrame(encoded[cat_col[i]].transform(test[[cat_col[i]]]).toarray())\n",
        "\tenc_df.columns = encoded[cat_col[i]].get_feature_names([cat_col[i]])\n",
        "\ttest=test.drop(cat_col[i], axis=1)\n",
        "\ttest=pd.concat([test, enc_df], axis=1)\n",
        "\t\n",
        "test_x=test[independentcols].values\n",
        "\n",
        "test_x = pca.transform(test_x)\n",
        "\n",
        "y_pred=model_cat.predict(test_x)\n",
        "\n",
        "test['PREDICTION'] = y_pred\n",
        "test = test[[primarycol,'PREDICTION']]\n",
        "test.to_csv('data_cbgridcv.csv', sep=';', index=False)\n",
        "\n",
        "from google.colab import files\n",
        "files.download('data_cbgridcv.csv')"
      ],
      "execution_count": null,
      "outputs": [
        {
          "output_type": "display_data",
          "data": {
            "application/javascript": [
              "\n",
              "    async function download(id, filename, size) {\n",
              "      if (!google.colab.kernel.accessAllowed) {\n",
              "        return;\n",
              "      }\n",
              "      const div = document.createElement('div');\n",
              "      const label = document.createElement('label');\n",
              "      label.textContent = `Downloading \"${filename}\": `;\n",
              "      div.appendChild(label);\n",
              "      const progress = document.createElement('progress');\n",
              "      progress.max = size;\n",
              "      div.appendChild(progress);\n",
              "      document.body.appendChild(div);\n",
              "\n",
              "      const buffers = [];\n",
              "      let downloaded = 0;\n",
              "\n",
              "      const channel = await google.colab.kernel.comms.open(id);\n",
              "      // Send a message to notify the kernel that we're ready.\n",
              "      channel.send({})\n",
              "\n",
              "      for await (const message of channel.messages) {\n",
              "        // Send a message to notify the kernel that we're ready.\n",
              "        channel.send({})\n",
              "        if (message.buffers) {\n",
              "          for (const buffer of message.buffers) {\n",
              "            buffers.push(buffer);\n",
              "            downloaded += buffer.byteLength;\n",
              "            progress.value = downloaded;\n",
              "          }\n",
              "        }\n",
              "      }\n",
              "      const blob = new Blob(buffers, {type: 'application/binary'});\n",
              "      const a = document.createElement('a');\n",
              "      a.href = window.URL.createObjectURL(blob);\n",
              "      a.download = filename;\n",
              "      div.appendChild(a);\n",
              "      a.click();\n",
              "      div.remove();\n",
              "    }\n",
              "  "
            ],
            "text/plain": [
              "<IPython.core.display.Javascript object>"
            ]
          },
          "metadata": {
            "tags": []
          }
        },
        {
          "output_type": "display_data",
          "data": {
            "application/javascript": [
              "download(\"download_f3608a43-e13f-42c2-8a49-c3500d4cf696\", \"data_cbgridcv.csv\", 207308)"
            ],
            "text/plain": [
              "<IPython.core.display.Javascript object>"
            ]
          },
          "metadata": {
            "tags": []
          }
        }
      ]
    },
    {
      "cell_type": "code",
      "metadata": {
        "id": "YlHnwVxRB5jb"
      },
      "source": [
        "import numpy as np\n",
        "import pandas as pd\n",
        "from sklearn import datasets\n",
        "from sklearn.model_selection import train_test_split\n",
        "from sklearn.linear_model import LogisticRegression\n",
        "from sklearn.ensemble import BaggingClassifier\n",
        "\n",
        "df = pd.read_csv('/content/csv_result-Descriptors_Training.csv')\n",
        "\n",
        "X = df.iloc[:, :-1].values\n",
        "y = df.iloc[:,-1].values\n",
        "print(X)\n",
        "print(y)\n",
        "\n",
        "X_train, X_test, y_train, y_test = train_test_split(X, y, test_size=0.25, random_state=1, stratify=y)\n",
        "\n",
        "clf = LogisticRegression(random_state=0)\n",
        "\n",
        "bgclassifier = BaggingClassifier(base_estimator=clf, n_estimators=100, \n",
        "                                 max_features=10, \n",
        "                                 max_samples=100,\n",
        "                                 random_state=1, n_jobs=5)\n",
        "\n",
        "bgclassifier.fit(X_train, y_train)\n",
        "\n",
        "print('Model test Score: %.3f, ' %bgclassifier.score(X_test, y_test), \n",
        "      'Model training Score: %.3f' %bgclassifier.score(X_train, y_train))"
      ],
      "execution_count": null,
      "outputs": []
    },
    {
      "cell_type": "code",
      "metadata": {
        "id": "X5ncJjG7Ff09"
      },
      "source": [
        "clf = LogisticRegression(random_state=0)\n",
        "\n",
        "bgclassifier = BaggingClassifier(base_estimator=clf, n_estimators=100, \n",
        "                                 max_features=10, \n",
        "                                 max_samples=100,\n",
        "                                 random_state=1, n_jobs=5)\n",
        "\n",
        "bgclassifier.fit(X_train, y_train)\n"
      ],
      "execution_count": null,
      "outputs": []
    },
    {
      "cell_type": "code",
      "metadata": {
        "colab": {
          "base_uri": "https://localhost:8080/"
        },
        "id": "a8b9nM63GQKa",
        "outputId": "586cacaa-3082-4660-b2a8-602948a7f7a8"
      },
      "source": [
        "print('Model test Score: %.3f, ' %bgclassifier.score(X_test, y_test), \n",
        "      'Model training Score: %.3f' %bgclassifier.score(X_train, y_train))\n"
      ],
      "execution_count": null,
      "outputs": [
        {
          "output_type": "stream",
          "text": [
            "Model test Score: 0.944,  Model training Score: 0.944\n"
          ],
          "name": "stdout"
        }
      ]
    },
    {
      "cell_type": "code",
      "metadata": {
        "colab": {
          "base_uri": "https://localhost:8080/"
        },
        "id": "esJEdHJKMQ_D",
        "outputId": "29f9a98f-1409-48b7-cec7-99038657b7da"
      },
      "source": [
        "pred = bgclassifier.predict(X_test)\n",
        "print(pred)"
      ],
      "execution_count": null,
      "outputs": [
        {
          "output_type": "stream",
          "text": [
            "['N' 'N' 'N' ... 'N' 'N' 'N']\n"
          ],
          "name": "stdout"
        }
      ]
    },
    {
      "cell_type": "code",
      "metadata": {
        "colab": {
          "base_uri": "https://localhost:8080/"
        },
        "id": "q-FwQuecM45l",
        "outputId": "b2284171-038b-4866-8c59-acfb08dbf33d"
      },
      "source": [
        "from sklearn.metrics import precision_score\n",
        "from sklearn.metrics import recall_score\n",
        "from sklearn.metrics import f1_score,accuracy_score\n",
        "acc = accuracy_score(y_test, pred)\n",
        "print(acc)\n",
        "precision = precision_score(y_test, pred,pos_label='N')\n",
        "print(precision)\n",
        "recall = recall_score(y_test, pred,pos_label='N')\n",
        "print(recall)\n",
        "f1 = f1_score(y_test, pred,pos_label='N')\n",
        "print(f1)\n"
      ],
      "execution_count": null,
      "outputs": [
        {
          "output_type": "stream",
          "text": [
            "0.9436439321165546\n",
            "0.9436439321165546\n",
            "1.0\n",
            "0.971004942339374\n"
          ],
          "name": "stdout"
        }
      ]
    },
    {
      "cell_type": "code",
      "metadata": {
        "id": "lrwX36nUvtCq"
      },
      "source": [
        "import pandas\n",
        "from keras.models import Sequential\n",
        "from keras.layers import Dense\n",
        "from keras.wrappers.scikit_learn import KerasRegressor\n",
        "from sklearn.model_selection import cross_val_score\n",
        "from sklearn.model_selection import KFold\n",
        "from sklearn.preprocessing import StandardScaler\n",
        "from sklearn.pipeline import Pipeline\n",
        "import keras"
      ],
      "execution_count": null,
      "outputs": []
    },
    {
      "cell_type": "code",
      "metadata": {
        "id": "WyiBMXajiYkf"
      },
      "source": [
        "# define base model\n",
        "def baseline_model():\n",
        "  model = Sequential()\n",
        "  model.add(Dense(200, input_dim=32, kernel_initializer='normal', activation='relu'))\n",
        "  model.add(Dense(100, kernel_initializer='normal', activation='relu'))\n",
        "  model.add(Dense(50, kernel_initializer='normal', activation='relu'))\n",
        "  model.add(Dense(25, kernel_initializer='normal', activation='relu'))\n",
        "  model.add(Dense(1, kernel_initializer='normal'))\n",
        "  # Compile model\n",
        "  model.compile(loss='mean_squared_error', optimizer=keras.optimizers.Adadelta())\n",
        "  return model"
      ],
      "execution_count": null,
      "outputs": []
    },
    {
      "cell_type": "code",
      "metadata": {
        "id": "7L1rYKNUivmg"
      },
      "source": [
        "estimator = KerasRegressor(build_fn=baseline_model, epochs=100, batch_size=500, verbose=0)\n",
        "kfold = KFold(n_splits=10)\n",
        "results = cross_val_score(estimator, x, y, cv=kfold)\n",
        "print(\"Results: %.2f (%.2f) MSE\" % (results.mean(), results.std()))"
      ],
      "execution_count": null,
      "outputs": []
    },
    {
      "cell_type": "code",
      "metadata": {
        "id": "Q0AwjAphpaHk"
      },
      "source": [
        "estimator.fit(x,y)"
      ],
      "execution_count": null,
      "outputs": []
    },
    {
      "cell_type": "code",
      "metadata": {
        "colab": {
          "base_uri": "https://localhost:8080/",
          "height": 17
        },
        "id": "Raa4G6JRobMc",
        "outputId": "678f88fe-f5aa-4498-c729-52c0ffb763cf"
      },
      "source": [
        "y_pred = np.expm1(estimator.predict(test_x))\n",
        "\n",
        "test['PREDICTION'] = y_pred\n",
        "test = test[[primarycol,'PREDICTION']]\n",
        "test.to_csv('data_cbgridcv.csv', sep=';', index=False)\n",
        "\n",
        "from google.colab import files\n",
        "files.download('data_cbgridcv.csv')"
      ],
      "execution_count": null,
      "outputs": [
        {
          "output_type": "display_data",
          "data": {
            "application/javascript": [
              "\n",
              "    async function download(id, filename, size) {\n",
              "      if (!google.colab.kernel.accessAllowed) {\n",
              "        return;\n",
              "      }\n",
              "      const div = document.createElement('div');\n",
              "      const label = document.createElement('label');\n",
              "      label.textContent = `Downloading \"${filename}\": `;\n",
              "      div.appendChild(label);\n",
              "      const progress = document.createElement('progress');\n",
              "      progress.max = size;\n",
              "      div.appendChild(progress);\n",
              "      document.body.appendChild(div);\n",
              "\n",
              "      const buffers = [];\n",
              "      let downloaded = 0;\n",
              "\n",
              "      const channel = await google.colab.kernel.comms.open(id);\n",
              "      // Send a message to notify the kernel that we're ready.\n",
              "      channel.send({})\n",
              "\n",
              "      for await (const message of channel.messages) {\n",
              "        // Send a message to notify the kernel that we're ready.\n",
              "        channel.send({})\n",
              "        if (message.buffers) {\n",
              "          for (const buffer of message.buffers) {\n",
              "            buffers.push(buffer);\n",
              "            downloaded += buffer.byteLength;\n",
              "            progress.value = downloaded;\n",
              "          }\n",
              "        }\n",
              "      }\n",
              "      const blob = new Blob(buffers, {type: 'application/binary'});\n",
              "      const a = document.createElement('a');\n",
              "      a.href = window.URL.createObjectURL(blob);\n",
              "      a.download = filename;\n",
              "      div.appendChild(a);\n",
              "      a.click();\n",
              "      div.remove();\n",
              "    }\n",
              "  "
            ],
            "text/plain": [
              "<IPython.core.display.Javascript object>"
            ]
          },
          "metadata": {
            "tags": []
          }
        },
        {
          "output_type": "display_data",
          "data": {
            "application/javascript": [
              "download(\"download_743b7b13-517b-4024-ac05-de53f88ce242\", \"data_cbgridcv.csv\", 140067)"
            ],
            "text/plain": [
              "<IPython.core.display.Javascript object>"
            ]
          },
          "metadata": {
            "tags": []
          }
        }
      ]
    },
    {
      "cell_type": "code",
      "metadata": {
        "id": "J7EzmRf4NR9p"
      },
      "source": [
        "import pandas as pd\n",
        "import numpy as np\n",
        "from sklearn.preprocessing import OneHotEncoder\n",
        "from sklearn.model_selection import train_test_split\n",
        "from xgboost import XGBRegressor\n",
        "from sklearn.metrics import r2_score\n",
        "from sklearn.metrics import mean_squared_error\n",
        "from lightgbm import LGBMRegressor\n",
        "from catboost import CatBoostRegressor\n",
        "from sklearn.preprocessing import MinMaxScaler\n",
        "\n",
        "X_train = pd.read_csv('/content/train_X.csv',header=None)\n",
        "X_val = pd.read_csv('/content/test_X.csv',header=None)\n",
        "y_train = pd.read_csv('/content/train_y.csv',header=None)\n",
        "y_val = pd.read_csv('/content/test_y.csv',header=None)"
      ],
      "execution_count": null,
      "outputs": []
    },
    {
      "cell_type": "code",
      "metadata": {
        "id": "lmLJELuNNjtM"
      },
      "source": [
        "from catboost import CatBoostClassifier\n",
        "\n",
        "clf = CatBoostClassifier(\n",
        "    iterations=2000,\n",
        "    random_seed=42,\n",
        "    learning_rate=0.5\n",
        ")\n",
        "\n",
        "clf.fit(\n",
        "    X_train, y_train\n",
        ")"
      ],
      "execution_count": null,
      "outputs": []
    },
    {
      "cell_type": "code",
      "metadata": {
        "colab": {
          "base_uri": "https://localhost:8080/"
        },
        "id": "2dfXvkxYSYHM",
        "outputId": "0d3adc07-4ba3-4a1a-d268-b24e6a8d01df"
      },
      "source": [
        "#Catboost\n",
        "model_cat = CatBoostClassifier(verbose=0)\n",
        "\n",
        "grid = {'learning_rate': [0.01, 0.05, 0.1, 0.2, 0.3, 0.4, 0.5],\n",
        "        'depth': [4, 6, 8 , 10],\n",
        "        'l2_leaf_reg': [1, 3, 5, 7, 9],\n",
        "        'n_estimators': [100, 500 ,1000, 1500, 2000, 3000, 4000, 5000]}\n",
        "\n",
        "randomized_search_result = model_cat.randomized_search(grid,\n",
        "                                                    X=X_train,\n",
        "                                                    y=y_train,\n",
        "                                                    n_iter=10,\n",
        "                                                    plot=False)\n",
        "\n",
        "print(randomized_search_result['params'])\n",
        "\n",
        "model_cat.fit(X_train, y_train)"
      ],
      "execution_count": null,
      "outputs": [
        {
          "output_type": "stream",
          "text": [
            "\n",
            "bestTest = 0.1035027714\n",
            "bestIteration = 999\n",
            "\n",
            "0:\tloss: 0.1035028\tbest: 0.1035028 (0)\ttotal: 14.2s\tremaining: 2m 7s\n",
            "\n",
            "bestTest = 0.09869015939\n",
            "bestIteration = 939\n",
            "\n",
            "1:\tloss: 0.0986902\tbest: 0.0986902 (1)\ttotal: 1m\tremaining: 4m 3s\n",
            "\n",
            "bestTest = 0.09811741803\n",
            "bestIteration = 1393\n",
            "\n",
            "2:\tloss: 0.0981174\tbest: 0.0981174 (2)\ttotal: 1m 57s\tremaining: 4m 35s\n",
            "\n",
            "bestTest = 0.09722716292\n",
            "bestIteration = 315\n",
            "\n",
            "3:\tloss: 0.0972272\tbest: 0.0972272 (3)\ttotal: 2m 24s\tremaining: 3m 36s\n",
            "\n",
            "bestTest = 0.07653094705\n",
            "bestIteration = 598\n",
            "\n",
            "4:\tloss: 0.0765309\tbest: 0.0765309 (4)\ttotal: 3m 3s\tremaining: 3m 3s\n",
            "\n",
            "bestTest = 0.08859089712\n",
            "bestIteration = 1431\n",
            "\n",
            "5:\tloss: 0.0885909\tbest: 0.0765309 (4)\ttotal: 3m 54s\tremaining: 2m 36s\n",
            "\n",
            "bestTest = 0.08205748892\n",
            "bestIteration = 1499\n",
            "\n",
            "6:\tloss: 0.0820575\tbest: 0.0765309 (4)\ttotal: 6m 34s\tremaining: 2m 49s\n",
            "\n",
            "bestTest = 0.06515943997\n",
            "bestIteration = 2783\n",
            "\n",
            "7:\tloss: 0.0651594\tbest: 0.0651594 (7)\ttotal: 11m 35s\tremaining: 2m 53s\n",
            "\n",
            "bestTest = 0.06511426864\n",
            "bestIteration = 3365\n",
            "\n",
            "8:\tloss: 0.0651143\tbest: 0.0651143 (8)\ttotal: 17m 35s\tremaining: 1m 57s\n",
            "\n",
            "bestTest = 0.06575260627\n",
            "bestIteration = 2838\n",
            "\n",
            "9:\tloss: 0.0657526\tbest: 0.0651143 (8)\ttotal: 24m 49s\tremaining: 0us\n",
            "Estimating final quality...\n",
            "{'depth': 10, 'l2_leaf_reg': 5, 'iterations': 4000, 'learning_rate': 0.1}\n"
          ],
          "name": "stdout"
        },
        {
          "output_type": "execute_result",
          "data": {
            "text/plain": [
              "<catboost.core.CatBoostClassifier at 0x7f7f09b91ed0>"
            ]
          },
          "metadata": {
            "tags": []
          },
          "execution_count": 17
        }
      ]
    },
    {
      "cell_type": "code",
      "metadata": {
        "id": "nUL0x9jOPTFQ"
      },
      "source": [
        "pred = model_cat.predict(data=X_val)"
      ],
      "execution_count": null,
      "outputs": []
    },
    {
      "cell_type": "code",
      "metadata": {
        "colab": {
          "base_uri": "https://localhost:8080/"
        },
        "id": "w7i0X9FRPj_Y",
        "outputId": "57323875-e332-4989-a46d-925ac8ac28f2"
      },
      "source": [
        "from sklearn.metrics import f1_score,accuracy_score,recall_score,precision_score\n",
        "acc = accuracy_score(y_val, pred)\n",
        "print(acc)\n",
        "precision = precision_score(y_val, pred)\n",
        "print(precision)\n",
        "recall = recall_score(y_val, pred)\n",
        "print(recall)\n",
        "f1 = f1_score(y_val, pred)\n",
        "print(f1)\n",
        "\n",
        "model_cat = CatBoostClassifier(verbose=0,'depth': 10, 'l2_leaf_reg': 5, 'iterations': 4000, 'learning_rate': 0.1)"
      ],
      "execution_count": null,
      "outputs": [
        {
          "output_type": "stream",
          "text": [
            "0.9486324216144096\n",
            "0.5\n",
            "0.003246753246753247\n",
            "0.0064516129032258064\n"
          ],
          "name": "stdout"
        }
      ]
    }
  ]
}